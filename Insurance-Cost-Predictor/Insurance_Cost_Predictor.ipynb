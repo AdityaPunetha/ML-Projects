{
 "nbformat": 4,
 "nbformat_minor": 0,
 "metadata": {
  "colab": {
   "name": "Insurance-Cost-Predictor",
   "provenance": [],
   "authorship_tag": "ABX9TyMoBjWZQ1YOONg4lVmxuBCp",
   "include_colab_link": true
  },
  "kernelspec": {
   "name": "python3",
   "display_name": "Python 3"
  },
  "language_info": {
   "name": "python"
  },
  "widgets": {
   "application/vnd.jupyter.widget-state+json": {
    "06bb81e9d8ea43749aab40053e1be1ac": {
     "model_module": "@jupyter-widgets/controls",
     "model_name": "HBoxModel",
     "model_module_version": "1.5.0",
     "state": {
      "_view_name": "HBoxView",
      "_dom_classes": [],
      "_model_name": "HBoxModel",
      "_view_module": "@jupyter-widgets/controls",
      "_model_module_version": "1.5.0",
      "_view_count": null,
      "_view_module_version": "1.5.0",
      "box_style": "",
      "layout": "IPY_MODEL_7089684a7af841389a96e1010f47d8c3",
      "_model_module": "@jupyter-widgets/controls",
      "children": [
       "IPY_MODEL_3ce70dd684914d8492fbd4837fb0ee09",
       "IPY_MODEL_0543d18da2b344e1904ece92355208c3",
       "IPY_MODEL_a8f8e8b84798478988dea9d456f421d8"
      ]
     }
    },
    "7089684a7af841389a96e1010f47d8c3": {
     "model_module": "@jupyter-widgets/base",
     "model_name": "LayoutModel",
     "model_module_version": "1.2.0",
     "state": {
      "_view_name": "LayoutView",
      "grid_template_rows": null,
      "right": null,
      "justify_content": null,
      "_view_module": "@jupyter-widgets/base",
      "overflow": null,
      "_model_module_version": "1.2.0",
      "_view_count": null,
      "flex_flow": null,
      "width": null,
      "min_width": null,
      "border": null,
      "align_items": null,
      "bottom": null,
      "_model_module": "@jupyter-widgets/base",
      "top": null,
      "grid_column": null,
      "overflow_y": null,
      "overflow_x": null,
      "grid_auto_flow": null,
      "grid_area": null,
      "grid_template_columns": null,
      "flex": null,
      "_model_name": "LayoutModel",
      "justify_items": null,
      "grid_row": null,
      "max_height": null,
      "align_content": null,
      "visibility": null,
      "align_self": null,
      "height": null,
      "min_height": null,
      "padding": null,
      "grid_auto_rows": null,
      "grid_gap": null,
      "max_width": null,
      "order": null,
      "_view_module_version": "1.2.0",
      "grid_template_areas": null,
      "object_position": null,
      "object_fit": null,
      "grid_auto_columns": null,
      "margin": null,
      "display": null,
      "left": null
     }
    },
    "3ce70dd684914d8492fbd4837fb0ee09": {
     "model_module": "@jupyter-widgets/controls",
     "model_name": "HTMLModel",
     "model_module_version": "1.5.0",
     "state": {
      "_view_name": "HTMLView",
      "style": "IPY_MODEL_7e9600f80ba64751b0d1561f76b882da",
      "_dom_classes": [],
      "description": "",
      "_model_name": "HTMLModel",
      "placeholder": "​",
      "_view_module": "@jupyter-widgets/controls",
      "_model_module_version": "1.5.0",
      "value": "",
      "_view_count": null,
      "_view_module_version": "1.5.0",
      "description_tooltip": null,
      "_model_module": "@jupyter-widgets/controls",
      "layout": "IPY_MODEL_7609528625d24d85a990ff4e0aeb900b"
     }
    },
    "0543d18da2b344e1904ece92355208c3": {
     "model_module": "@jupyter-widgets/controls",
     "model_name": "FloatProgressModel",
     "model_module_version": "1.5.0",
     "state": {
      "_view_name": "ProgressView",
      "style": "IPY_MODEL_574adc4cd8df44eca02931dc5d885835",
      "_dom_classes": [],
      "description": "",
      "_model_name": "FloatProgressModel",
      "bar_style": "success",
      "max": 55628,
      "_view_module": "@jupyter-widgets/controls",
      "_model_module_version": "1.5.0",
      "value": 55628,
      "_view_count": null,
      "_view_module_version": "1.5.0",
      "orientation": "horizontal",
      "min": 0,
      "description_tooltip": null,
      "_model_module": "@jupyter-widgets/controls",
      "layout": "IPY_MODEL_6caeb4bfe683487fa3f468aee94b24d0"
     }
    },
    "a8f8e8b84798478988dea9d456f421d8": {
     "model_module": "@jupyter-widgets/controls",
     "model_name": "HTMLModel",
     "model_module_version": "1.5.0",
     "state": {
      "_view_name": "HTMLView",
      "style": "IPY_MODEL_7eedc9acbaae463da5850f57e2e6fa18",
      "_dom_classes": [],
      "description": "",
      "_model_name": "HTMLModel",
      "placeholder": "​",
      "_view_module": "@jupyter-widgets/controls",
      "_model_module_version": "1.5.0",
      "value": " 56320/? [00:00&lt;00:00, 157162.54it/s]",
      "_view_count": null,
      "_view_module_version": "1.5.0",
      "description_tooltip": null,
      "_model_module": "@jupyter-widgets/controls",
      "layout": "IPY_MODEL_c9d48c23b72e469d8951ce4926187c2d"
     }
    },
    "7e9600f80ba64751b0d1561f76b882da": {
     "model_module": "@jupyter-widgets/controls",
     "model_name": "DescriptionStyleModel",
     "model_module_version": "1.5.0",
     "state": {
      "_view_name": "StyleView",
      "_model_name": "DescriptionStyleModel",
      "description_width": "",
      "_view_module": "@jupyter-widgets/base",
      "_model_module_version": "1.5.0",
      "_view_count": null,
      "_view_module_version": "1.2.0",
      "_model_module": "@jupyter-widgets/controls"
     }
    },
    "7609528625d24d85a990ff4e0aeb900b": {
     "model_module": "@jupyter-widgets/base",
     "model_name": "LayoutModel",
     "model_module_version": "1.2.0",
     "state": {
      "_view_name": "LayoutView",
      "grid_template_rows": null,
      "right": null,
      "justify_content": null,
      "_view_module": "@jupyter-widgets/base",
      "overflow": null,
      "_model_module_version": "1.2.0",
      "_view_count": null,
      "flex_flow": null,
      "width": null,
      "min_width": null,
      "border": null,
      "align_items": null,
      "bottom": null,
      "_model_module": "@jupyter-widgets/base",
      "top": null,
      "grid_column": null,
      "overflow_y": null,
      "overflow_x": null,
      "grid_auto_flow": null,
      "grid_area": null,
      "grid_template_columns": null,
      "flex": null,
      "_model_name": "LayoutModel",
      "justify_items": null,
      "grid_row": null,
      "max_height": null,
      "align_content": null,
      "visibility": null,
      "align_self": null,
      "height": null,
      "min_height": null,
      "padding": null,
      "grid_auto_rows": null,
      "grid_gap": null,
      "max_width": null,
      "order": null,
      "_view_module_version": "1.2.0",
      "grid_template_areas": null,
      "object_position": null,
      "object_fit": null,
      "grid_auto_columns": null,
      "margin": null,
      "display": null,
      "left": null
     }
    },
    "574adc4cd8df44eca02931dc5d885835": {
     "model_module": "@jupyter-widgets/controls",
     "model_name": "ProgressStyleModel",
     "model_module_version": "1.5.0",
     "state": {
      "_view_name": "StyleView",
      "_model_name": "ProgressStyleModel",
      "description_width": "",
      "_view_module": "@jupyter-widgets/base",
      "_model_module_version": "1.5.0",
      "_view_count": null,
      "_view_module_version": "1.2.0",
      "bar_color": null,
      "_model_module": "@jupyter-widgets/controls"
     }
    },
    "6caeb4bfe683487fa3f468aee94b24d0": {
     "model_module": "@jupyter-widgets/base",
     "model_name": "LayoutModel",
     "model_module_version": "1.2.0",
     "state": {
      "_view_name": "LayoutView",
      "grid_template_rows": null,
      "right": null,
      "justify_content": null,
      "_view_module": "@jupyter-widgets/base",
      "overflow": null,
      "_model_module_version": "1.2.0",
      "_view_count": null,
      "flex_flow": null,
      "width": null,
      "min_width": null,
      "border": null,
      "align_items": null,
      "bottom": null,
      "_model_module": "@jupyter-widgets/base",
      "top": null,
      "grid_column": null,
      "overflow_y": null,
      "overflow_x": null,
      "grid_auto_flow": null,
      "grid_area": null,
      "grid_template_columns": null,
      "flex": null,
      "_model_name": "LayoutModel",
      "justify_items": null,
      "grid_row": null,
      "max_height": null,
      "align_content": null,
      "visibility": null,
      "align_self": null,
      "height": null,
      "min_height": null,
      "padding": null,
      "grid_auto_rows": null,
      "grid_gap": null,
      "max_width": null,
      "order": null,
      "_view_module_version": "1.2.0",
      "grid_template_areas": null,
      "object_position": null,
      "object_fit": null,
      "grid_auto_columns": null,
      "margin": null,
      "display": null,
      "left": null
     }
    },
    "7eedc9acbaae463da5850f57e2e6fa18": {
     "model_module": "@jupyter-widgets/controls",
     "model_name": "DescriptionStyleModel",
     "model_module_version": "1.5.0",
     "state": {
      "_view_name": "StyleView",
      "_model_name": "DescriptionStyleModel",
      "description_width": "",
      "_view_module": "@jupyter-widgets/base",
      "_model_module_version": "1.5.0",
      "_view_count": null,
      "_view_module_version": "1.2.0",
      "_model_module": "@jupyter-widgets/controls"
     }
    },
    "c9d48c23b72e469d8951ce4926187c2d": {
     "model_module": "@jupyter-widgets/base",
     "model_name": "LayoutModel",
     "model_module_version": "1.2.0",
     "state": {
      "_view_name": "LayoutView",
      "grid_template_rows": null,
      "right": null,
      "justify_content": null,
      "_view_module": "@jupyter-widgets/base",
      "overflow": null,
      "_model_module_version": "1.2.0",
      "_view_count": null,
      "flex_flow": null,
      "width": null,
      "min_width": null,
      "border": null,
      "align_items": null,
      "bottom": null,
      "_model_module": "@jupyter-widgets/base",
      "top": null,
      "grid_column": null,
      "overflow_y": null,
      "overflow_x": null,
      "grid_auto_flow": null,
      "grid_area": null,
      "grid_template_columns": null,
      "flex": null,
      "_model_name": "LayoutModel",
      "justify_items": null,
      "grid_row": null,
      "max_height": null,
      "align_content": null,
      "visibility": null,
      "align_self": null,
      "height": null,
      "min_height": null,
      "padding": null,
      "grid_auto_rows": null,
      "grid_gap": null,
      "max_width": null,
      "order": null,
      "_view_module_version": "1.2.0",
      "grid_template_areas": null,
      "object_position": null,
      "object_fit": null,
      "grid_auto_columns": null,
      "margin": null,
      "display": null,
      "left": null
     }
    }
   }
  }
 },
 "cells": [
  {
   "cell_type": "markdown",
   "metadata": {
    "id": "view-in-github",
    "colab_type": "text"
   },
   "source": [
    "<a href=\"https://colab.research.google.com/github/AdityaPunetha/Insurance-Cost-Predictor/blob/main/Insurance_Cost_Predictor.ipynb\" target=\"_parent\"><img src=\"https://colab.research.google.com/assets/colab-badge.svg\" alt=\"Open In Colab\"/></a>"
   ]
  },
  {
   "cell_type": "code",
   "metadata": {
    "id": "4dZZEZUfN6yg"
   },
   "source": [
    "import torch\n",
    "import torchvision\n",
    "import torch.nn as nn\n",
    "import pandas as pd\n",
    "import matplotlib.pyplot as plt\n",
    "import torch.nn.functional as F\n",
    "from torchvision.datasets.utils import download_url\n",
    "from torch.utils.data import DataLoader, TensorDataset, random_split"
   ],
   "execution_count": 1,
   "outputs": []
  },
  {
   "cell_type": "markdown",
   "metadata": {
    "id": "Z8KNR2pkYGlO"
   },
   "source": [
    "## Step 1: Download and explore the data\n",
    "\n",
    "Let us begin by downloading the data. We'll use the `download_url` function from PyTorch to get the data as a CSV (comma-separated values) file. "
   ]
  },
  {
   "cell_type": "code",
   "metadata": {
    "id": "ryiVj_VLPjmc",
    "colab": {
     "base_uri": "https://localhost:8080/",
     "height": 67,
     "referenced_widgets": [
      "06bb81e9d8ea43749aab40053e1be1ac",
      "7089684a7af841389a96e1010f47d8c3",
      "3ce70dd684914d8492fbd4837fb0ee09",
      "0543d18da2b344e1904ece92355208c3",
      "a8f8e8b84798478988dea9d456f421d8",
      "7e9600f80ba64751b0d1561f76b882da",
      "7609528625d24d85a990ff4e0aeb900b",
      "574adc4cd8df44eca02931dc5d885835",
      "6caeb4bfe683487fa3f468aee94b24d0",
      "7eedc9acbaae463da5850f57e2e6fa18",
      "c9d48c23b72e469d8951ce4926187c2d"
     ]
    },
    "outputId": "0d88374a-55c2-4344-b0af-f445d30adbf3"
   },
   "source": [
    "DATASET_URL = \"https://hub.jovian.ml/wp-content/uploads/2020/05/insurance.csv\"\n",
    "DATA_FILENAME = \"insurance.csv\"\n",
    "download_url(DATASET_URL, \".\")"
   ],
   "execution_count": 2,
   "outputs": [
    {
     "output_type": "stream",
     "name": "stdout",
     "text": [
      "Downloading https://hub.jovian.ml/wp-content/uploads/2020/05/insurance.csv to ./insurance.csv\n"
     ]
    },
    {
     "output_type": "display_data",
     "data": {
      "application/vnd.jupyter.widget-view+json": {
       "model_id": "06bb81e9d8ea43749aab40053e1be1ac",
       "version_minor": 0,
       "version_major": 2
      },
      "text/plain": [
       "  0%|          | 0/55628 [00:00<?, ?it/s]"
      ]
     },
     "metadata": {}
    }
   ]
  },
  {
   "cell_type": "code",
   "metadata": {
    "colab": {
     "base_uri": "https://localhost:8080/",
     "height": 206
    },
    "id": "2O6-R1pXRXw4",
    "outputId": "c979de6b-a495-4f00-da2a-af9c20aa6127"
   },
   "source": [
    "dataframe_raw = pd.read_csv(DATA_FILENAME)\n",
    "dataframe_raw.head()"
   ],
   "execution_count": 3,
   "outputs": [
    {
     "output_type": "execute_result",
     "data": {
      "text/html": [
       "<div>\n",
       "<style scoped>\n",
       "    .dataframe tbody tr th:only-of-type {\n",
       "        vertical-align: middle;\n",
       "    }\n",
       "\n",
       "    .dataframe tbody tr th {\n",
       "        vertical-align: top;\n",
       "    }\n",
       "\n",
       "    .dataframe thead th {\n",
       "        text-align: right;\n",
       "    }\n",
       "</style>\n",
       "<table border=\"1\" class=\"dataframe\">\n",
       "  <thead>\n",
       "    <tr style=\"text-align: right;\">\n",
       "      <th></th>\n",
       "      <th>age</th>\n",
       "      <th>sex</th>\n",
       "      <th>bmi</th>\n",
       "      <th>children</th>\n",
       "      <th>smoker</th>\n",
       "      <th>region</th>\n",
       "      <th>charges</th>\n",
       "    </tr>\n",
       "  </thead>\n",
       "  <tbody>\n",
       "    <tr>\n",
       "      <th>0</th>\n",
       "      <td>19</td>\n",
       "      <td>female</td>\n",
       "      <td>27.900</td>\n",
       "      <td>0</td>\n",
       "      <td>yes</td>\n",
       "      <td>southwest</td>\n",
       "      <td>16884.92400</td>\n",
       "    </tr>\n",
       "    <tr>\n",
       "      <th>1</th>\n",
       "      <td>18</td>\n",
       "      <td>male</td>\n",
       "      <td>33.770</td>\n",
       "      <td>1</td>\n",
       "      <td>no</td>\n",
       "      <td>southeast</td>\n",
       "      <td>1725.55230</td>\n",
       "    </tr>\n",
       "    <tr>\n",
       "      <th>2</th>\n",
       "      <td>28</td>\n",
       "      <td>male</td>\n",
       "      <td>33.000</td>\n",
       "      <td>3</td>\n",
       "      <td>no</td>\n",
       "      <td>southeast</td>\n",
       "      <td>4449.46200</td>\n",
       "    </tr>\n",
       "    <tr>\n",
       "      <th>3</th>\n",
       "      <td>33</td>\n",
       "      <td>male</td>\n",
       "      <td>22.705</td>\n",
       "      <td>0</td>\n",
       "      <td>no</td>\n",
       "      <td>northwest</td>\n",
       "      <td>21984.47061</td>\n",
       "    </tr>\n",
       "    <tr>\n",
       "      <th>4</th>\n",
       "      <td>32</td>\n",
       "      <td>male</td>\n",
       "      <td>28.880</td>\n",
       "      <td>0</td>\n",
       "      <td>no</td>\n",
       "      <td>northwest</td>\n",
       "      <td>3866.85520</td>\n",
       "    </tr>\n",
       "  </tbody>\n",
       "</table>\n",
       "</div>"
      ],
      "text/plain": [
       "   age     sex     bmi  children smoker     region      charges\n",
       "0   19  female  27.900         0    yes  southwest  16884.92400\n",
       "1   18    male  33.770         1     no  southeast   1725.55230\n",
       "2   28    male  33.000         3     no  southeast   4449.46200\n",
       "3   33    male  22.705         0     no  northwest  21984.47061\n",
       "4   32    male  28.880         0     no  northwest   3866.85520"
      ]
     },
     "metadata": {},
     "execution_count": 3
    }
   ]
  },
  {
   "cell_type": "code",
   "metadata": {
    "colab": {
     "base_uri": "https://localhost:8080/"
    },
    "id": "mFIp6kwgSalk",
    "outputId": "e36fd93b-bd45-49be-cfa2-4d2c3f60763d"
   },
   "source": [
    "num_rows = len(dataframe_raw.axes[0])\n",
    "print(num_rows)"
   ],
   "execution_count": 4,
   "outputs": [
    {
     "output_type": "stream",
     "name": "stdout",
     "text": [
      "1338\n"
     ]
    }
   ]
  },
  {
   "cell_type": "code",
   "metadata": {
    "colab": {
     "base_uri": "https://localhost:8080/"
    },
    "id": "k9aKhMCbSrad",
    "outputId": "ff0e9d1e-42e2-480c-94a5-740037c177e9"
   },
   "source": [
    "num_cols = len(dataframe_raw.axes[1])\n",
    "print(num_cols)"
   ],
   "execution_count": 5,
   "outputs": [
    {
     "output_type": "stream",
     "name": "stdout",
     "text": [
      "7\n"
     ]
    }
   ]
  },
  {
   "cell_type": "code",
   "metadata": {
    "id": "1CZdAncdTY48"
   },
   "source": [
    "input_cols = [\"age\", \"sex\", \"bmi\", \"children\", \"smoker\", \"region\"]"
   ],
   "execution_count": 6,
   "outputs": []
  },
  {
   "cell_type": "code",
   "metadata": {
    "id": "aI3MmdvjTsqT"
   },
   "source": [
    "categorical_cols = [\"sex\", \"smoker\", \"region\"]"
   ],
   "execution_count": 7,
   "outputs": []
  },
  {
   "cell_type": "code",
   "metadata": {
    "id": "blHplld6T7S8"
   },
   "source": [
    "output_cols = [\"charges\"]"
   ],
   "execution_count": 8,
   "outputs": []
  },
  {
   "cell_type": "markdown",
   "metadata": {
    "id": "ypSUUsTHYK7b"
   },
   "source": [
    "## Step 2: Prepare the dataset for training\n",
    "\n",
    "We need to convert the data from the Pandas dataframe into a PyTorch tensors for training. To do this, the first step is to convert it numpy arrays. If you've filled out `input_cols`, `categorial_cols` and `output_cols` correctly, this following function will perform the conversion to numpy arrays."
   ]
  },
  {
   "cell_type": "code",
   "metadata": {
    "id": "3V4Na7GlUa-u"
   },
   "source": [
    "def dataframe_to_arrays(dataframe):\n",
    "    # Make a copy of the original dataframe\n",
    "    dataframe1 = dataframe.copy(deep=True)\n",
    "    # Convert non-numeric categorical columns to numbers\n",
    "    for col in categorical_cols:\n",
    "        dataframe1[col] = dataframe1[col].astype(\"category\").cat.codes\n",
    "    # Extract input & outupts as numpy arrays\n",
    "    inputs_array = dataframe1[input_cols].to_numpy(dtype=\"float32\")\n",
    "    targets_array = dataframe1[output_cols].to_numpy(dtype=\"float32\")\n",
    "    return inputs_array, targets_array"
   ],
   "execution_count": 9,
   "outputs": []
  },
  {
   "cell_type": "code",
   "metadata": {
    "colab": {
     "base_uri": "https://localhost:8080/"
    },
    "id": "oUC8_mGDUjnD",
    "outputId": "6595dba4-0b25-4986-a62b-1be2643d2a19"
   },
   "source": [
    "inputs_array, targets_array = dataframe_to_arrays(dataframe_raw)\n",
    "inputs_array, targets_array"
   ],
   "execution_count": 10,
   "outputs": [
    {
     "output_type": "execute_result",
     "data": {
      "text/plain": [
       "(array([[19.  ,  0.  , 27.9 ,  0.  ,  1.  ,  3.  ],\n",
       "        [18.  ,  1.  , 33.77,  1.  ,  0.  ,  2.  ],\n",
       "        [28.  ,  1.  , 33.  ,  3.  ,  0.  ,  2.  ],\n",
       "        ...,\n",
       "        [18.  ,  0.  , 36.85,  0.  ,  0.  ,  2.  ],\n",
       "        [21.  ,  0.  , 25.8 ,  0.  ,  0.  ,  3.  ],\n",
       "        [61.  ,  0.  , 29.07,  0.  ,  1.  ,  1.  ]], dtype=float32),\n",
       " array([[16884.924 ],\n",
       "        [ 1725.5522],\n",
       "        [ 4449.462 ],\n",
       "        ...,\n",
       "        [ 1629.8335],\n",
       "        [ 2007.945 ],\n",
       "        [29141.36  ]], dtype=float32))"
      ]
     },
     "metadata": {},
     "execution_count": 10
    }
   ]
  },
  {
   "cell_type": "markdown",
   "metadata": {
    "id": "WRgWMPW8VesT"
   },
   "source": [
    "**Q: Convert the numpy arrays `inputs_array` and `targets_array` into PyTorch tensors. Make sure that the data type is `torch.float32`.**"
   ]
  },
  {
   "cell_type": "code",
   "metadata": {
    "colab": {
     "base_uri": "https://localhost:8080/"
    },
    "id": "Hrk2wPyFVEre",
    "outputId": "90fcc4fa-2e1c-44bd-89a3-f8d33de09fed"
   },
   "source": [
    "inputs = torch.from_numpy(inputs_array)\n",
    "targets = torch.from_numpy(targets_array)\n",
    "inputs.dtype, targets.dtype"
   ],
   "execution_count": 11,
   "outputs": [
    {
     "output_type": "execute_result",
     "data": {
      "text/plain": [
       "(torch.float32, torch.float32)"
      ]
     },
     "metadata": {},
     "execution_count": 11
    }
   ]
  },
  {
   "cell_type": "code",
   "metadata": {
    "id": "rHXccvw7Xgr1"
   },
   "source": [
    "dataset = TensorDataset(inputs, targets)"
   ],
   "execution_count": 12,
   "outputs": []
  },
  {
   "cell_type": "markdown",
   "metadata": {
    "id": "6qLOmPQIXkfj"
   },
   "source": [
    "**Q: Pick a number between `0.1` and `0.2` to determine the fraction of data that will be used for creating the validation set. Then use `random_split` to create training & validation datasets.**"
   ]
  },
  {
   "cell_type": "code",
   "metadata": {
    "colab": {
     "base_uri": "https://localhost:8080/"
    },
    "id": "G7WIGGimXljz",
    "outputId": "465b4266-9f30-48d3-b897-620651d4077e"
   },
   "source": [
    "val_percent = 0.15\n",
    "val_size = int(num_rows * val_percent)\n",
    "train_size = num_rows - val_size\n",
    "print(val_size, train_size)\n",
    "\n",
    "train_ds, val_ds = random_split(dataset, [train_size, val_size])"
   ],
   "execution_count": 13,
   "outputs": [
    {
     "output_type": "stream",
     "name": "stdout",
     "text": [
      "200 1138\n"
     ]
    }
   ]
  },
  {
   "cell_type": "code",
   "metadata": {
    "id": "JQzek7KzZwJE"
   },
   "source": [
    "batch_size = 20"
   ],
   "execution_count": 14,
   "outputs": []
  },
  {
   "cell_type": "code",
   "metadata": {
    "id": "Us05v-f2Z96b"
   },
   "source": [
    "train_loader = DataLoader(train_ds, batch_size, shuffle=True)\n",
    "val_loader = DataLoader(val_ds, batch_size)"
   ],
   "execution_count": 15,
   "outputs": []
  },
  {
   "cell_type": "markdown",
   "metadata": {
    "id": "hKEnGeV0aO6z"
   },
   "source": [
    "Let's look at a batch of data to verify everything is working fine so far."
   ]
  },
  {
   "cell_type": "code",
   "metadata": {
    "colab": {
     "base_uri": "https://localhost:8080/"
    },
    "id": "azfT0hnlaQ1b",
    "outputId": "e84cc6f7-b9c1-443f-e589-4c073edd34c2"
   },
   "source": [
    "for xb, yb in train_loader:\n",
    "    print(\"inputs:\", xb)\n",
    "    print(\"targets:\", yb)\n",
    "    break"
   ],
   "execution_count": 16,
   "outputs": [
    {
     "output_type": "stream",
     "name": "stdout",
     "text": [
      "inputs: tensor([[18.0000,  1.0000, 30.0300,  1.0000,  0.0000,  2.0000],\n",
      "        [43.0000,  1.0000, 20.1300,  2.0000,  1.0000,  2.0000],\n",
      "        [46.0000,  0.0000, 27.7200,  1.0000,  0.0000,  2.0000],\n",
      "        [40.0000,  1.0000, 41.6900,  0.0000,  0.0000,  2.0000],\n",
      "        [41.0000,  0.0000, 33.0600,  2.0000,  0.0000,  1.0000],\n",
      "        [31.0000,  1.0000, 39.4900,  1.0000,  0.0000,  2.0000],\n",
      "        [50.0000,  0.0000, 44.7450,  0.0000,  0.0000,  0.0000],\n",
      "        [42.0000,  0.0000, 23.3700,  0.0000,  1.0000,  0.0000],\n",
      "        [22.0000,  0.0000, 28.8200,  0.0000,  0.0000,  2.0000],\n",
      "        [24.0000,  1.0000, 29.8300,  0.0000,  1.0000,  0.0000],\n",
      "        [23.0000,  1.0000, 27.3600,  1.0000,  0.0000,  1.0000],\n",
      "        [31.0000,  1.0000, 27.6450,  2.0000,  0.0000,  0.0000],\n",
      "        [40.0000,  0.0000, 23.3700,  3.0000,  0.0000,  0.0000],\n",
      "        [51.0000,  1.0000, 27.7400,  1.0000,  0.0000,  0.0000],\n",
      "        [56.0000,  0.0000, 28.5950,  0.0000,  0.0000,  0.0000],\n",
      "        [22.0000,  1.0000, 37.6200,  1.0000,  1.0000,  2.0000],\n",
      "        [23.0000,  1.0000, 18.7150,  0.0000,  0.0000,  1.0000],\n",
      "        [59.0000,  0.0000, 23.6550,  0.0000,  1.0000,  1.0000],\n",
      "        [28.0000,  1.0000, 31.6800,  0.0000,  1.0000,  2.0000],\n",
      "        [42.0000,  1.0000, 26.0700,  1.0000,  1.0000,  2.0000]])\n",
      "targets: tensor([[ 1720.3538],\n",
      "        [18767.7383],\n",
      "        [ 8232.6387],\n",
      "        [ 5438.7490],\n",
      "        [ 7749.1562],\n",
      "        [ 3875.7341],\n",
      "        [ 9541.6953],\n",
      "        [19964.7461],\n",
      "        [ 2156.7517],\n",
      "        [18648.4219],\n",
      "        [ 2789.0574],\n",
      "        [ 5031.2695],\n",
      "        [ 8252.2842],\n",
      "        [ 9957.7217],\n",
      "        [11658.1152],\n",
      "        [37165.1641],\n",
      "        [21595.3828],\n",
      "        [25678.7793],\n",
      "        [34672.1484],\n",
      "        [38245.5938]])\n"
     ]
    }
   ]
  },
  {
   "cell_type": "markdown",
   "metadata": {
    "id": "T5KJKufGavw2"
   },
   "source": [
    "## Step 3: Create a Linear Regression Model\n",
    "\n",
    "Our model itself is a fairly straightforward linear regression (we'll build more complex models in the next assignment). "
   ]
  },
  {
   "cell_type": "code",
   "metadata": {
    "id": "WrTMDio4bQah"
   },
   "source": [
    "input_size = len(input_cols)\n",
    "output_size = len(output_cols)"
   ],
   "execution_count": 17,
   "outputs": []
  },
  {
   "cell_type": "markdown",
   "metadata": {
    "id": "d188smPkbn6i"
   },
   "source": [
    "**Q: Complete the class definition below by filling out the constructor (`__init__`), `forward`, `training_step` and `validation_step` methods.**\n",
    "\n",
    "Hint: Think carefully about picking a good loss fuction (it's not cross entropy). Maybe try 2-3 of them and see which one works best. See https://pytorch.org/docs/stable/nn.functional.html#loss-functions"
   ]
  },
  {
   "cell_type": "code",
   "metadata": {
    "id": "xG6uq5LDbo7U"
   },
   "source": [
    "class InsuranceModel(nn.Module):\n",
    "    def __init__(self):\n",
    "        super().__init__()\n",
    "        self.linear = nn.Linear(\n",
    "            input_size, output_size\n",
    "        )  # fill this (hint: use input_size & output_size defined above)\n",
    "\n",
    "    def forward(self, xb):\n",
    "        out = self.linear(xb)  # fill this\n",
    "        return out\n",
    "\n",
    "    def training_step(self, batch):\n",
    "        inputs, targets = batch\n",
    "        # Generate predictions\n",
    "        out = self(inputs)\n",
    "        # Calcuate loss\n",
    "        loss = F.mse_loss(out, targets)  # fill this\n",
    "        return loss\n",
    "\n",
    "    def validation_step(self, batch):\n",
    "        inputs, targets = batch\n",
    "        # Generate predictions\n",
    "        out = self(inputs)\n",
    "        # Calculate loss\n",
    "        loss = F.mse_loss(out, targets)  # fill this\n",
    "        return {\"val_loss\": loss.detach()}\n",
    "\n",
    "    def validation_epoch_end(self, outputs):\n",
    "        batch_losses = [x[\"val_loss\"] for x in outputs]\n",
    "        epoch_loss = torch.stack(batch_losses).mean()  # Combine losses\n",
    "        return {\"val_loss\": epoch_loss.item()}\n",
    "\n",
    "    def epoch_end(self, epoch, result, num_epochs):\n",
    "        # Print result every 20th epoch\n",
    "        if (epoch + 1) % 20 == 0 or epoch == num_epochs - 1:\n",
    "            print(\"Epoch [{}], val_loss: {:.4f}\".format(epoch + 1, result[\"val_loss\"]))"
   ],
   "execution_count": 18,
   "outputs": []
  },
  {
   "cell_type": "markdown",
   "metadata": {
    "id": "QxJbNvEZf-9O"
   },
   "source": [
    "Let us create a model using the `InsuranceModel` class. You may need to come back later and re-run the next cell to reinitialize the model, in case the loss becomes `nan` or `infinity`."
   ]
  },
  {
   "cell_type": "code",
   "metadata": {
    "id": "MoQX_Su9f_-0"
   },
   "source": [
    "model = InsuranceModel()"
   ],
   "execution_count": 19,
   "outputs": []
  },
  {
   "cell_type": "markdown",
   "metadata": {
    "id": "Hmbk-lvtgC0q"
   },
   "source": [
    "Let's check out the weights and biases of the model using `model.parameters`."
   ]
  },
  {
   "cell_type": "code",
   "metadata": {
    "colab": {
     "base_uri": "https://localhost:8080/"
    },
    "id": "u7V2XNtjgH96",
    "outputId": "ca869f54-f262-446c-b9d7-06f5607c165c"
   },
   "source": [
    "list(model.parameters())"
   ],
   "execution_count": 20,
   "outputs": [
    {
     "output_type": "execute_result",
     "data": {
      "text/plain": [
       "[Parameter containing:\n",
       " tensor([[ 0.2845,  0.2370,  0.3320, -0.3336,  0.2073, -0.0762]],\n",
       "        requires_grad=True), Parameter containing:\n",
       " tensor([-0.2435], requires_grad=True)]"
      ]
     },
     "metadata": {},
     "execution_count": 20
    }
   ]
  },
  {
   "cell_type": "markdown",
   "metadata": {
    "id": "330apHj4gNE7"
   },
   "source": [
    "## Step 4: Train the model to fit the data\n",
    "\n",
    "To train our model, we'll use the same `fit` function explained in the lecture. That's the benefit of defining a generic training loop - you can use it for any problem."
   ]
  },
  {
   "cell_type": "markdown",
   "metadata": {
    "id": "pG2OAOSxgOFT"
   },
   "source": [
    "```\n",
    "for epoch in range(num_epochs):\n",
    "    # Training phase\n",
    "    for batch in train_loader:\n",
    "        # Generate predictions\n",
    "        # Calculate loss\n",
    "        # Compute gradients\n",
    "        # Update weights\n",
    "        # Reset gradients\n",
    "    \n",
    "    # Validation phase\n",
    "    for batch in val_loader:\n",
    "        # Generate predictions\n",
    "        # Calculate loss\n",
    "        # Calculate metrics (accuracy etc.)\n",
    "    # Calculate average validation loss & metrics\n",
    "    \n",
    "    # Log epoch, loss & metrics for inspection\n",
    "```"
   ]
  },
  {
   "cell_type": "code",
   "metadata": {
    "id": "niUurT2QgnVj"
   },
   "source": [
    "def evaluate(model, val_loader):\n",
    "    outputs = [model.validation_step(batch) for batch in val_loader]\n",
    "    return model.validation_epoch_end(outputs)\n",
    "\n",
    "\n",
    "def fit(epochs, lr, model, train_loader, val_loader, opt_func=torch.optim.SGD):\n",
    "    history = []\n",
    "    optimizer = opt_func(model.parameters(), lr)\n",
    "    for epoch in range(epochs):\n",
    "        # Training Phase\n",
    "        for batch in train_loader:\n",
    "            loss = model.training_step(batch)\n",
    "            loss.backward()\n",
    "            optimizer.step()\n",
    "            optimizer.zero_grad()\n",
    "        # Validation phase\n",
    "        result = evaluate(model, val_loader)\n",
    "        model.epoch_end(epoch, result, epochs)\n",
    "        history.append(result)\n",
    "    return history"
   ],
   "execution_count": 21,
   "outputs": []
  },
  {
   "cell_type": "markdown",
   "metadata": {
    "id": "CROpcgCygvP7"
   },
   "source": [
    "**Q: Use the `evaluate` function to calculate the loss on the validation set before training.**"
   ]
  },
  {
   "cell_type": "code",
   "metadata": {
    "id": "2qp4nRIegwX_",
    "colab": {
     "base_uri": "https://localhost:8080/"
    },
    "outputId": "02882eb3-a591-457a-c85b-03439edb47d9"
   },
   "source": [
    "result = evaluate(model, val_loader)  # Use the the evaluate function\n",
    "print(result)"
   ],
   "execution_count": 22,
   "outputs": [
    {
     "output_type": "stream",
     "name": "stdout",
     "text": [
      "{'val_loss': 374085792.0}\n"
     ]
    }
   ]
  },
  {
   "cell_type": "code",
   "metadata": {
    "colab": {
     "base_uri": "https://localhost:8080/"
    },
    "id": "AVG34UFFhNby",
    "outputId": "19934989-43ba-48d7-ce69-d184bdeb675b"
   },
   "source": [
    "epochs = 50\n",
    "lr = 1e-4\n",
    "history1 = fit(epochs, lr, model, train_loader, val_loader)"
   ],
   "execution_count": 23,
   "outputs": [
    {
     "output_type": "stream",
     "name": "stdout",
     "text": [
      "Epoch [20], val_loss: 137566432.0000\n",
      "Epoch [40], val_loss: 132411112.0000\n",
      "Epoch [50], val_loss: 131607408.0000\n"
     ]
    }
   ]
  },
  {
   "cell_type": "code",
   "metadata": {
    "colab": {
     "base_uri": "https://localhost:8080/"
    },
    "id": "a-9YfiqyiYpF",
    "outputId": "3b54555b-4f81-4890-fd1f-7e7c53da4e48"
   },
   "source": [
    "epochs = 50\n",
    "lr = 1e-4\n",
    "history2 = fit(epochs, lr, model, train_loader, val_loader)"
   ],
   "execution_count": 24,
   "outputs": [
    {
     "output_type": "stream",
     "name": "stdout",
     "text": [
      "Epoch [20], val_loss: 121924696.0000\n",
      "Epoch [40], val_loss: 123619608.0000\n",
      "Epoch [50], val_loss: 118474640.0000\n"
     ]
    }
   ]
  },
  {
   "cell_type": "code",
   "metadata": {
    "colab": {
     "base_uri": "https://localhost:8080/"
    },
    "id": "i-thfjCKiY4I",
    "outputId": "b9b4ebd7-083d-4e8d-e8cd-095f608ae609"
   },
   "source": [
    "epochs = 50\n",
    "lr = 1e-4\n",
    "history3 = fit(epochs, lr, model, train_loader, val_loader)"
   ],
   "execution_count": 25,
   "outputs": [
    {
     "output_type": "stream",
     "name": "stdout",
     "text": [
      "Epoch [20], val_loss: 110543296.0000\n",
      "Epoch [40], val_loss: 118433344.0000\n",
      "Epoch [50], val_loss: 115620952.0000\n"
     ]
    }
   ]
  },
  {
   "cell_type": "code",
   "metadata": {
    "colab": {
     "base_uri": "https://localhost:8080/"
    },
    "id": "ypNgjtKqiZEC",
    "outputId": "f31544ab-4075-4575-e2a0-5c0d9876fe78"
   },
   "source": [
    "epochs = 50\n",
    "lr = 1e-4\n",
    "history4 = fit(epochs, lr, model, train_loader, val_loader)"
   ],
   "execution_count": 26,
   "outputs": [
    {
     "output_type": "stream",
     "name": "stdout",
     "text": [
      "Epoch [20], val_loss: 103296744.0000\n",
      "Epoch [40], val_loss: 97526840.0000\n",
      "Epoch [50], val_loss: 97578880.0000\n"
     ]
    }
   ]
  },
  {
   "cell_type": "code",
   "metadata": {
    "colab": {
     "base_uri": "https://localhost:8080/"
    },
    "id": "-1SNPiRliZNH",
    "outputId": "1c80938e-58d1-42d2-c5f4-7ff24d4eae1a"
   },
   "source": [
    "epochs = 50\n",
    "lr = 1e-4\n",
    "history5 = fit(epochs, lr, model, train_loader, val_loader)"
   ],
   "execution_count": 27,
   "outputs": [
    {
     "output_type": "stream",
     "name": "stdout",
     "text": [
      "Epoch [20], val_loss: 98700368.0000\n",
      "Epoch [40], val_loss: 87087688.0000\n",
      "Epoch [50], val_loss: 86019888.0000\n"
     ]
    }
   ]
  },
  {
   "cell_type": "code",
   "metadata": {
    "id": "UThqjPTFv_LQ",
    "outputId": "a3aafaab-e50b-4d89-fbb1-9de74882d3f2",
    "colab": {
     "base_uri": "https://localhost:8080/",
     "height": 295
    }
   },
   "source": [
    "losses = [r[\"val_loss\"] for r in [result] + history5]\n",
    "plt.plot(losses, \"-x\")\n",
    "plt.xlabel(\"epoch\")\n",
    "plt.ylabel(\"val_loss\")\n",
    "plt.title(\"val_loss vs. epochs\");"
   ],
   "execution_count": 29,
   "outputs": [
    {
     "output_type": "display_data",
     "data": {
      "image/png": "[encoded data removed]",
      "text/plain": [
       "<Figure size 432x288 with 1 Axes>"
      ]
     },
     "metadata": {
      "needs_background": "light"
     }
    }
   ]
  }
 ]
}