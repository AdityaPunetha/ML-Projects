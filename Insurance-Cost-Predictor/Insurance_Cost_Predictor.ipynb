{
  "nbformat": 4,
  "nbformat_minor": 0,
  "metadata": {
    "colab": {
      "name": "Insurance-Cost-Predictor",
      "provenance": [],
      "authorship_tag": "ABX9TyOc9bv7ymN/iOlyxkeivRbR",
      "include_colab_link": true
    },
    "kernelspec": {
      "name": "python3",
      "display_name": "Python 3"
    },
    "language_info": {
      "name": "python"
    }
  },
  "cells": [
    {
      "cell_type": "markdown",
      "metadata": {
        "id": "view-in-github",
        "colab_type": "text"
      },
      "source": [
        "<a href=\"https://colab.research.google.com/github/AdityaPunetha/Insurance-Cost-Predictor/blob/main/Insurance_Cost_Predictor.ipynb\" target=\"_parent\"><img src=\"https://colab.research.google.com/assets/colab-badge.svg\" alt=\"Open In Colab\"/></a>"
      ]
    },
    {
      "cell_type": "code",
      "metadata": {
        "id": "4dZZEZUfN6yg"
      },
      "source": [
        "import torch\n",
        "import torchvision\n",
        "import torch.nn as nn\n",
        "import pandas as pd\n",
        "import matplotlib.pyplot as plt\n",
        "import torch.nn.functional as F\n",
        "from torchvision.datasets.utils import download_url\n",
        "from torch.utils.data import DataLoader, TensorDataset, random_split"
      ],
      "execution_count": 1,
      "outputs": []
    },
    {
      "cell_type": "markdown",
      "metadata": {
        "id": "Z8KNR2pkYGlO"
      },
      "source": [
        "## Step 1: Download and explore the data\n",
        "\n",
        "Let us begin by downloading the data. We'll use the `download_url` function from PyTorch to get the data as a CSV (comma-separated values) file. "
      ]
    },
    {
      "cell_type": "code",
      "metadata": {
        "id": "ryiVj_VLPjmc",
        "colab": {
          "base_uri": "https://localhost:8080/"
        },
        "outputId": "882b741c-049a-43eb-d5dc-091a86bd315c"
      },
      "source": [
        "DATASET_URL = \"https://hub.jovian.ml/wp-content/uploads/2020/05/insurance.csv\"\n",
        "DATA_FILENAME = \"insurance.csv\"\n",
        "download_url(DATASET_URL, '.')\n"
      ],
      "execution_count": 2,
      "outputs": [
        {
          "output_type": "stream",
          "name": "stdout",
          "text": [
            "Using downloaded and verified file: ./insurance.csv\n"
          ]
        }
      ]
    },
    {
      "cell_type": "code",
      "metadata": {
        "colab": {
          "base_uri": "https://localhost:8080/",
          "height": 206
        },
        "id": "2O6-R1pXRXw4",
        "outputId": "9b926232-5b01-4616-9e71-a1857b9e09d1"
      },
      "source": [
        "dataframe_raw = pd.read_csv(DATA_FILENAME)\n",
        "dataframe_raw.head()"
      ],
      "execution_count": 3,
      "outputs": [
        {
          "output_type": "execute_result",
          "data": {
            "text/html": [
              "<div>\n",
              "<style scoped>\n",
              "    .dataframe tbody tr th:only-of-type {\n",
              "        vertical-align: middle;\n",
              "    }\n",
              "\n",
              "    .dataframe tbody tr th {\n",
              "        vertical-align: top;\n",
              "    }\n",
              "\n",
              "    .dataframe thead th {\n",
              "        text-align: right;\n",
              "    }\n",
              "</style>\n",
              "<table border=\"1\" class=\"dataframe\">\n",
              "  <thead>\n",
              "    <tr style=\"text-align: right;\">\n",
              "      <th></th>\n",
              "      <th>age</th>\n",
              "      <th>sex</th>\n",
              "      <th>bmi</th>\n",
              "      <th>children</th>\n",
              "      <th>smoker</th>\n",
              "      <th>region</th>\n",
              "      <th>charges</th>\n",
              "    </tr>\n",
              "  </thead>\n",
              "  <tbody>\n",
              "    <tr>\n",
              "      <th>0</th>\n",
              "      <td>19</td>\n",
              "      <td>female</td>\n",
              "      <td>27.900</td>\n",
              "      <td>0</td>\n",
              "      <td>yes</td>\n",
              "      <td>southwest</td>\n",
              "      <td>16884.92400</td>\n",
              "    </tr>\n",
              "    <tr>\n",
              "      <th>1</th>\n",
              "      <td>18</td>\n",
              "      <td>male</td>\n",
              "      <td>33.770</td>\n",
              "      <td>1</td>\n",
              "      <td>no</td>\n",
              "      <td>southeast</td>\n",
              "      <td>1725.55230</td>\n",
              "    </tr>\n",
              "    <tr>\n",
              "      <th>2</th>\n",
              "      <td>28</td>\n",
              "      <td>male</td>\n",
              "      <td>33.000</td>\n",
              "      <td>3</td>\n",
              "      <td>no</td>\n",
              "      <td>southeast</td>\n",
              "      <td>4449.46200</td>\n",
              "    </tr>\n",
              "    <tr>\n",
              "      <th>3</th>\n",
              "      <td>33</td>\n",
              "      <td>male</td>\n",
              "      <td>22.705</td>\n",
              "      <td>0</td>\n",
              "      <td>no</td>\n",
              "      <td>northwest</td>\n",
              "      <td>21984.47061</td>\n",
              "    </tr>\n",
              "    <tr>\n",
              "      <th>4</th>\n",
              "      <td>32</td>\n",
              "      <td>male</td>\n",
              "      <td>28.880</td>\n",
              "      <td>0</td>\n",
              "      <td>no</td>\n",
              "      <td>northwest</td>\n",
              "      <td>3866.85520</td>\n",
              "    </tr>\n",
              "  </tbody>\n",
              "</table>\n",
              "</div>"
            ],
            "text/plain": [
              "   age     sex     bmi  children smoker     region      charges\n",
              "0   19  female  27.900         0    yes  southwest  16884.92400\n",
              "1   18    male  33.770         1     no  southeast   1725.55230\n",
              "2   28    male  33.000         3     no  southeast   4449.46200\n",
              "3   33    male  22.705         0     no  northwest  21984.47061\n",
              "4   32    male  28.880         0     no  northwest   3866.85520"
            ]
          },
          "metadata": {},
          "execution_count": 3
        }
      ]
    },
    {
      "cell_type": "code",
      "metadata": {
        "colab": {
          "base_uri": "https://localhost:8080/"
        },
        "id": "mFIp6kwgSalk",
        "outputId": "9b8bd93b-0799-4255-c9bf-801e9b69fdb1"
      },
      "source": [
        "num_rows = len(dataframe_raw.axes[0])\n",
        "print(num_rows)"
      ],
      "execution_count": 4,
      "outputs": [
        {
          "output_type": "stream",
          "name": "stdout",
          "text": [
            "1338\n"
          ]
        }
      ]
    },
    {
      "cell_type": "code",
      "metadata": {
        "colab": {
          "base_uri": "https://localhost:8080/"
        },
        "id": "k9aKhMCbSrad",
        "outputId": "d44d240d-1f6a-4bb4-d70c-fbcca1a07527"
      },
      "source": [
        "num_cols =len(dataframe_raw.axes[1])\n",
        "print(num_cols)"
      ],
      "execution_count": 5,
      "outputs": [
        {
          "output_type": "stream",
          "name": "stdout",
          "text": [
            "7\n"
          ]
        }
      ]
    },
    {
      "cell_type": "code",
      "metadata": {
        "id": "1CZdAncdTY48"
      },
      "source": [
        "input_cols = ['age','sex','bmi','children','smoker','region']"
      ],
      "execution_count": 6,
      "outputs": []
    },
    {
      "cell_type": "code",
      "metadata": {
        "id": "aI3MmdvjTsqT"
      },
      "source": [
        "categorical_cols = ['sex','smoker','region']"
      ],
      "execution_count": 7,
      "outputs": []
    },
    {
      "cell_type": "code",
      "metadata": {
        "id": "blHplld6T7S8"
      },
      "source": [
        "output_cols = ['charges']"
      ],
      "execution_count": 8,
      "outputs": []
    },
    {
      "cell_type": "markdown",
      "metadata": {
        "id": "ypSUUsTHYK7b"
      },
      "source": [
        "## Step 2: Prepare the dataset for training\n",
        "\n",
        "We need to convert the data from the Pandas dataframe into a PyTorch tensors for training. To do this, the first step is to convert it numpy arrays. If you've filled out `input_cols`, `categorial_cols` and `output_cols` correctly, this following function will perform the conversion to numpy arrays."
      ]
    },
    {
      "cell_type": "code",
      "metadata": {
        "id": "3V4Na7GlUa-u"
      },
      "source": [
        "def dataframe_to_arrays(dataframe):\n",
        "    # Make a copy of the original dataframe\n",
        "    dataframe1 = dataframe.copy(deep=True)\n",
        "    # Convert non-numeric categorical columns to numbers\n",
        "    for col in categorical_cols:\n",
        "        dataframe1[col] = dataframe1[col].astype('category').cat.codes\n",
        "    # Extract input & outupts as numpy arrays\n",
        "    inputs_array = dataframe1[input_cols].to_numpy(dtype='float32')\n",
        "    targets_array = dataframe1[output_cols].to_numpy(dtype='float32')\n",
        "    return inputs_array, targets_array"
      ],
      "execution_count": 9,
      "outputs": []
    },
    {
      "cell_type": "code",
      "metadata": {
        "id": "oUC8_mGDUjnD",
        "outputId": "6993ea26-f5c0-4a4f-ad6d-348121d76568",
        "colab": {
          "base_uri": "https://localhost:8080/"
        }
      },
      "source": [
        "inputs_array, targets_array = dataframe_to_arrays(dataframe_raw)\n",
        "inputs_array, targets_array"
      ],
      "execution_count": 10,
      "outputs": [
        {
          "output_type": "execute_result",
          "data": {
            "text/plain": [
              "(array([[19.  ,  0.  , 27.9 ,  0.  ,  1.  ,  3.  ],\n",
              "        [18.  ,  1.  , 33.77,  1.  ,  0.  ,  2.  ],\n",
              "        [28.  ,  1.  , 33.  ,  3.  ,  0.  ,  2.  ],\n",
              "        ...,\n",
              "        [18.  ,  0.  , 36.85,  0.  ,  0.  ,  2.  ],\n",
              "        [21.  ,  0.  , 25.8 ,  0.  ,  0.  ,  3.  ],\n",
              "        [61.  ,  0.  , 29.07,  0.  ,  1.  ,  1.  ]], dtype=float32),\n",
              " array([[16884.924 ],\n",
              "        [ 1725.5522],\n",
              "        [ 4449.462 ],\n",
              "        ...,\n",
              "        [ 1629.8335],\n",
              "        [ 2007.945 ],\n",
              "        [29141.36  ]], dtype=float32))"
            ]
          },
          "metadata": {},
          "execution_count": 10
        }
      ]
    },
    {
      "cell_type": "markdown",
      "metadata": {
        "id": "WRgWMPW8VesT"
      },
      "source": [
        "**Q: Convert the numpy arrays `inputs_array` and `targets_array` into PyTorch tensors. Make sure that the data type is `torch.float32`.**"
      ]
    },
    {
      "cell_type": "code",
      "metadata": {
        "id": "Hrk2wPyFVEre",
        "outputId": "a21bdf5b-c8de-4a82-d39e-61e12a47f6f7",
        "colab": {
          "base_uri": "https://localhost:8080/"
        }
      },
      "source": [
        "inputs = torch.from_numpy(inputs_array)\n",
        "targets = torch.from_numpy(targets_array)\n",
        "inputs.dtype, targets.dtype"
      ],
      "execution_count": 12,
      "outputs": [
        {
          "output_type": "execute_result",
          "data": {
            "text/plain": [
              "(torch.float32, torch.float32)"
            ]
          },
          "metadata": {},
          "execution_count": 12
        }
      ]
    },
    {
      "cell_type": "code",
      "metadata": {
        "id": "rHXccvw7Xgr1"
      },
      "source": [
        "dataset = TensorDataset(inputs, targets)"
      ],
      "execution_count": 13,
      "outputs": []
    },
    {
      "cell_type": "markdown",
      "metadata": {
        "id": "6qLOmPQIXkfj"
      },
      "source": [
        "**Q: Pick a number between `0.1` and `0.2` to determine the fraction of data that will be used for creating the validation set. Then use `random_split` to create training & validation datasets.**"
      ]
    },
    {
      "cell_type": "code",
      "metadata": {
        "id": "G7WIGGimXljz",
        "outputId": "b54561b5-d26a-44c5-f52f-de774afd3848",
        "colab": {
          "base_uri": "https://localhost:8080/"
        }
      },
      "source": [
        "val_percent = 0.15\n",
        "val_size = int(num_rows * val_percent)\n",
        "train_size = num_rows - val_size\n",
        "print(val_size,train_size)\n",
        "\n",
        "train_ds, val_ds =random_split(dataset, [train_size, val_size])"
      ],
      "execution_count": 15,
      "outputs": [
        {
          "output_type": "stream",
          "name": "stdout",
          "text": [
            "200 1138\n"
          ]
        }
      ]
    },
    {
      "cell_type": "code",
      "metadata": {
        "id": "JQzek7KzZwJE"
      },
      "source": [
        "batch_size = 20"
      ],
      "execution_count": 22,
      "outputs": []
    },
    {
      "cell_type": "code",
      "metadata": {
        "id": "Us05v-f2Z96b"
      },
      "source": [
        "train_loader = DataLoader(train_ds, batch_size, shuffle=True)\n",
        "val_loader = DataLoader(val_ds, batch_size)"
      ],
      "execution_count": 23,
      "outputs": []
    },
    {
      "cell_type": "markdown",
      "metadata": {
        "id": "hKEnGeV0aO6z"
      },
      "source": [
        "Let's look at a batch of data to verify everything is working fine so far."
      ]
    },
    {
      "cell_type": "code",
      "metadata": {
        "id": "azfT0hnlaQ1b",
        "outputId": "57b4b793-482d-49e7-ee9e-1798b10fb757",
        "colab": {
          "base_uri": "https://localhost:8080/"
        }
      },
      "source": [
        "for xb, yb in train_loader:\n",
        "    print(\"inputs:\", xb)\n",
        "    print(\"targets:\", yb)\n",
        "    break"
      ],
      "execution_count": 24,
      "outputs": [
        {
          "output_type": "stream",
          "name": "stdout",
          "text": [
            "inputs: tensor([[55.0000,  1.0000, 33.8800,  3.0000,  0.0000,  2.0000],\n",
            "        [44.0000,  1.0000, 37.1000,  2.0000,  0.0000,  3.0000],\n",
            "        [22.0000,  0.0000, 36.0000,  0.0000,  0.0000,  3.0000],\n",
            "        [32.0000,  0.0000, 44.2200,  0.0000,  0.0000,  2.0000],\n",
            "        [61.0000,  1.0000, 35.8600,  0.0000,  1.0000,  2.0000],\n",
            "        [31.0000,  0.0000, 29.1000,  0.0000,  0.0000,  3.0000],\n",
            "        [19.0000,  0.0000, 22.5150,  0.0000,  0.0000,  1.0000],\n",
            "        [36.0000,  1.0000, 33.4000,  2.0000,  1.0000,  3.0000],\n",
            "        [39.0000,  1.0000, 32.3400,  2.0000,  0.0000,  2.0000],\n",
            "        [56.0000,  0.0000, 32.3000,  3.0000,  0.0000,  0.0000],\n",
            "        [54.0000,  1.0000, 34.2100,  2.0000,  1.0000,  2.0000],\n",
            "        [32.0000,  1.0000, 46.5300,  2.0000,  0.0000,  2.0000],\n",
            "        [20.0000,  1.0000, 28.0250,  1.0000,  1.0000,  1.0000],\n",
            "        [38.0000,  0.0000, 19.9500,  2.0000,  0.0000,  0.0000],\n",
            "        [58.0000,  0.0000, 32.3950,  1.0000,  0.0000,  0.0000],\n",
            "        [39.0000,  1.0000, 42.6550,  0.0000,  0.0000,  0.0000],\n",
            "        [54.0000,  1.0000, 25.4600,  1.0000,  0.0000,  0.0000],\n",
            "        [19.0000,  1.0000, 21.7550,  0.0000,  0.0000,  1.0000],\n",
            "        [29.0000,  1.0000, 29.7350,  2.0000,  0.0000,  1.0000],\n",
            "        [27.0000,  1.0000, 45.9000,  2.0000,  0.0000,  3.0000]])\n",
            "targets: tensor([[11987.1680],\n",
            "        [ 7740.3369],\n",
            "        [ 2166.7319],\n",
            "        [ 3994.1777],\n",
            "        [46599.1094],\n",
            "        [ 3761.2920],\n",
            "        [ 2117.3389],\n",
            "        [38415.4727],\n",
            "        [ 6338.0757],\n",
            "        [13430.2646],\n",
            "        [44260.7500],\n",
            "        [ 4686.3887],\n",
            "        [17560.3789],\n",
            "        [ 7133.9023],\n",
            "        [13019.1611],\n",
            "        [ 5757.4136],\n",
            "        [25517.1133],\n",
            "        [ 1627.2825],\n",
            "        [18157.8770],\n",
            "        [ 3693.4280]])\n"
          ]
        }
      ]
    },
    {
      "cell_type": "markdown",
      "metadata": {
        "id": "T5KJKufGavw2"
      },
      "source": [
        "## Step 3: Create a Linear Regression Model\n",
        "\n",
        "Our model itself is a fairly straightforward linear regression (we'll build more complex models in the next assignment). "
      ]
    }
  ]
}