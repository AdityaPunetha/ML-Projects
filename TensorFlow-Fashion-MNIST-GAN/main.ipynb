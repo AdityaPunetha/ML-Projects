{
 "nbformat": 4,
 "nbformat_minor": 0,
 "metadata": {
  "colab": {
   "name": "Untitled3.ipynb",
   "provenance": [],
   "collapsed_sections": [],
   "authorship_tag": "ABX9TyPfnTl9+oJMRZLbMUsNNz6t",
   "include_colab_link": true
  },
  "kernelspec": {
   "name": "python3",
   "display_name": "Python 3"
  },
  "language_info": {
   "name": "python"
  },
  "accelerator": "GPU"
 },
 "cells": [
  {
   "cell_type": "markdown",
   "metadata": {
    "id": "view-in-github",
    "colab_type": "text"
   },
   "source": [
    "<a href=\"https://colab.research.google.com/github/AdityaPunetha/TensorFlow-Fashion-MNIST-GAN/blob/main/main.ipynb\" target=\"_parent\"><img src=\"https://colab.research.google.com/assets/colab-badge.svg\" alt=\"Open In Colab\"/></a>"
   ]
  },
  {
   "cell_type": "markdown",
   "source": [
    "# Import Dependencies"
   ],
   "metadata": {
    "id": "-MFY_53xzAA3"
   }
  },
  {
   "cell_type": "code",
   "source": [
    "import numpy as np\n",
    "import os\n",
    "from tensorflow.keras.models import Sequential\n",
    "from tensorflow.keras.layers import (\n",
    "    Conv2D,\n",
    "    Dense,\n",
    "    Flatten,\n",
    "    Reshape,\n",
    "    LeakyReLU,\n",
    "    Dropout,\n",
    "    UpSampling2D,\n",
    "    ReLU,\n",
    ")\n",
    "import tensorflow_datasets as tfds\n",
    "from tensorflow.keras.optimizers import Adam\n",
    "from tensorflow.keras.losses import BinaryCrossentropy\n",
    "from tensorflow.keras.models import Model\n",
    "from tensorflow.keras.preprocessing.image import array_to_img\n",
    "from tensorflow.keras.callbacks import Callback\n",
    "from matplotlib import pyplot as plt\n",
    "\n",
    "%matplotlib inline"
   ],
   "metadata": {
    "id": "m3fttGAsU4M2"
   },
   "execution_count": 1,
   "outputs": []
  },
  {
   "cell_type": "code",
   "source": [
    "import tensorflow as tf"
   ],
   "metadata": {
    "id": "NFgW_pdmdD2B"
   },
   "execution_count": 2,
   "outputs": []
  },
  {
   "cell_type": "markdown",
   "source": [
    "# Load Data"
   ],
   "metadata": {
    "id": "LKfIVU66U_6t"
   }
  },
  {
   "cell_type": "code",
   "source": [
    "ds = tfds.load(\"fashion_mnist\", split=\"train\")"
   ],
   "metadata": {
    "id": "7LoQP_0_U4IZ"
   },
   "execution_count": 3,
   "outputs": []
  },
  {
   "cell_type": "code",
   "source": [
    "dataiterator = ds.as_numpy_iterator()"
   ],
   "metadata": {
    "id": "en1XRmKxU4FB"
   },
   "execution_count": 4,
   "outputs": []
  },
  {
   "cell_type": "code",
   "source": [
    "# Setup the subplot formatting\n",
    "fig, ax = plt.subplots(ncols=4, figsize=(10, 10))\n",
    "# Loop four times and get images\n",
    "for idx in range(4):\n",
    "    # Grab an image and label\n",
    "    sample = dataiterator.next()\n",
    "    # Plot the image using a specific subplot\n",
    "    ax[idx].imshow(np.squeeze(sample[\"image\"]))\n",
    "    # Appending the image label as the plot title\n",
    "    ax[idx].title.set_text(sample[\"label\"])"
   ],
   "metadata": {
    "colab": {
     "base_uri": "https://localhost:8080/",
     "height": 185
    },
    "id": "qZTEXQJsVc0z",
    "outputId": "f28f4946-f9fc-42c0-8c58-734f93e74012"
   },
   "execution_count": 5,
   "outputs": [
    {
     "output_type": "display_data",
     "data": {
      "text/plain": [
       "<Figure size 720x720 with 4 Axes>"
      ],
      "image/png": "[encoded data removed]"
     },
     "metadata": {
      "needs_background": "light"
     }
    }
   ]
  },
  {
   "cell_type": "code",
   "source": [
    "def scale_images(data):\n",
    "    image = data[\"image\"]\n",
    "    image = image / 255\n",
    "    return (image * 2) - 1"
   ],
   "metadata": {
    "id": "yeujNd29vVbL"
   },
   "execution_count": 6,
   "outputs": []
  },
  {
   "cell_type": "code",
   "source": [
    "batch_size = 200"
   ],
   "metadata": {
    "id": "UfXmjBcm4lrd"
   },
   "execution_count": 7,
   "outputs": []
  },
  {
   "cell_type": "code",
   "source": [
    "# Reload the dataset\n",
    "ds = tfds.load(\"fashion_mnist\", split=\"train\")\n",
    "# Running the dataset through the scale_images preprocessing step\n",
    "ds = ds.map(scale_images)\n",
    "# Cache the dataset for that batch\n",
    "ds = ds.cache()\n",
    "# Shuffle it up\n",
    "ds = ds.shuffle(60000)\n",
    "# Batch into 128 images per sample\n",
    "ds = ds.batch(batch_size)\n",
    "# Reduces the likelihood of bottlenecking\n",
    "ds = ds.prefetch(64)"
   ],
   "metadata": {
    "id": "eaMEoTOMVukW"
   },
   "execution_count": 8,
   "outputs": []
  },
  {
   "cell_type": "markdown",
   "source": [
    "# Generator"
   ],
   "metadata": {
    "id": "3zT73oaiYsyG"
   }
  },
  {
   "cell_type": "code",
   "source": [
    "latent_size = 128"
   ],
   "metadata": {
    "id": "Q7IvZYsFk7m7"
   },
   "execution_count": 9,
   "outputs": []
  },
  {
   "cell_type": "code",
   "source": [
    "generator = Sequential()\n",
    "\n",
    "generator.add(Dense(7 * 7 * 128, input_dim=latent_size))\n",
    "generator.add(ReLU())\n",
    "generator.add(Reshape((7, 7, 128)))\n",
    "\n",
    "# Upsampling block 1\n",
    "generator.add(UpSampling2D())\n",
    "generator.add(Conv2D(128, 5, padding=\"same\"))\n",
    "generator.add(ReLU())\n",
    "\n",
    "# Upsampling block 2\n",
    "generator.add(UpSampling2D())\n",
    "generator.add(Conv2D(128, 5, padding=\"same\"))\n",
    "generator.add(ReLU())\n",
    "\n",
    "# Convolutional block 1\n",
    "generator.add(Conv2D(128, 4, padding=\"same\"))\n",
    "generator.add(ReLU())\n",
    "\n",
    "# Convolutional block 2\n",
    "generator.add(Conv2D(128, 4, padding=\"same\"))\n",
    "generator.add(ReLU())\n",
    "\n",
    "# Conv layer to get to one channel\n",
    "generator.add(Conv2D(1, 4, padding=\"same\", activation=\"tanh\"))"
   ],
   "metadata": {
    "id": "oe1fkJOjYZi6"
   },
   "execution_count": 23,
   "outputs": []
  },
  {
   "cell_type": "code",
   "source": [
    "img = generator.predict(np.random.randn(1, 128, 1))"
   ],
   "metadata": {
    "id": "Ybb5LGoSYZf2"
   },
   "execution_count": 11,
   "outputs": []
  },
  {
   "cell_type": "code",
   "source": [
    "plt.imshow(np.squeeze(img[0]))"
   ],
   "metadata": {
    "colab": {
     "base_uri": "https://localhost:8080/",
     "height": 282
    },
    "id": "eXiBxKnvYZc_",
    "outputId": "a7a9599c-e2f2-411c-97ca-c3e6e951c8d3"
   },
   "execution_count": 12,
   "outputs": [
    {
     "output_type": "execute_result",
     "data": {
      "text/plain": [
       "<matplotlib.image.AxesImage at 0x7f44e273b650>"
      ]
     },
     "metadata": {},
     "execution_count": 12
    },
    {
     "output_type": "display_data",
     "data": {
      "text/plain": [
       "<Figure size 432x288 with 1 Axes>"
      ],
      "image/png": "[encoded data removed]"
     },
     "metadata": {
      "needs_background": "light"
     }
    }
   ]
  },
  {
   "cell_type": "markdown",
   "source": [
    "# Build Discriminator"
   ],
   "metadata": {
    "id": "8ByUau9omdtT"
   }
  },
  {
   "cell_type": "code",
   "source": [
    "discriminator = Sequential()\n",
    "\n",
    "# First Conv Block\n",
    "discriminator.add(Conv2D(32, 5, input_shape=(28, 28, 1)))\n",
    "discriminator.add(LeakyReLU(0.2))\n",
    "discriminator.add(Dropout(0.4))\n",
    "\n",
    "# Second Conv Block\n",
    "discriminator.add(Conv2D(64, 5))\n",
    "discriminator.add(LeakyReLU(0.2))\n",
    "discriminator.add(Dropout(0.4))\n",
    "\n",
    "# Third Conv Block\n",
    "discriminator.add(Conv2D(128, 5))\n",
    "discriminator.add(LeakyReLU(0.2))\n",
    "discriminator.add(Dropout(0.4))\n",
    "\n",
    "# Fourth Conv Block\n",
    "discriminator.add(Conv2D(256, 5))\n",
    "discriminator.add(LeakyReLU(0.2))\n",
    "discriminator.add(Dropout(0.4))\n",
    "\n",
    "# Flatten then pass to dense layer\n",
    "discriminator.add(Flatten())\n",
    "discriminator.add(Dropout(0.4))\n",
    "discriminator.add(Dense(1, activation=\"sigmoid\"))"
   ],
   "metadata": {
    "id": "6wJiipQ3mddJ"
   },
   "execution_count": 24,
   "outputs": []
  },
  {
   "cell_type": "code",
   "source": [
    "discriminator.predict(img)"
   ],
   "metadata": {
    "colab": {
     "base_uri": "https://localhost:8080/"
    },
    "id": "hF6Zs_XkYZW_",
    "outputId": "a4d5124c-6cc9-4439-960b-d96632943ea1"
   },
   "execution_count": 14,
   "outputs": [
    {
     "output_type": "execute_result",
     "data": {
      "text/plain": [
       "array([[0.4993011]], dtype=float32)"
      ]
     },
     "metadata": {},
     "execution_count": 14
    }
   ]
  },
  {
   "cell_type": "markdown",
   "source": [
    "# Construct Training Loop"
   ],
   "metadata": {
    "id": "1ArSWdheAnoq"
   }
  },
  {
   "cell_type": "code",
   "source": [
    "g_opt = Adam(learning_rate=0.0001)\n",
    "d_opt = Adam(learning_rate=0.00001)\n",
    "g_loss = BinaryCrossentropy()\n",
    "d_loss = BinaryCrossentropy()"
   ],
   "metadata": {
    "id": "ls5j77ToA-qi"
   },
   "execution_count": 22,
   "outputs": []
  },
  {
   "cell_type": "code",
   "source": [
    "class FashionGAN(Model):\n",
    "    def __init__(self, generator, discriminator, *args, **kwargs):\n",
    "        # Pass through args and kwargs to base class\n",
    "        super().__init__(*args, **kwargs)\n",
    "\n",
    "        # Create attributes for gen and disc\n",
    "        self.generator = generator\n",
    "        self.discriminator = discriminator\n",
    "\n",
    "    def compile(self, g_opt, d_opt, g_loss, d_loss, *args, **kwargs):\n",
    "        # Compile with base class\n",
    "        super().compile(*args, **kwargs)\n",
    "\n",
    "        # Create attributes for losses and optimizers\n",
    "        self.g_opt = g_opt\n",
    "        self.d_opt = d_opt\n",
    "        self.g_loss = g_loss\n",
    "        self.d_loss = d_loss\n",
    "\n",
    "    def train_step(self, batch):\n",
    "        # Get the data\n",
    "        real_images = batch\n",
    "        fake_images = self.generator(\n",
    "            tf.random.normal((batch_size, 128, 1)), training=False\n",
    "        )\n",
    "\n",
    "        # Train the discriminator\n",
    "        with tf.GradientTape() as d_tape:\n",
    "            # Pass the real and fake images to the discriminator model\n",
    "            yhat_real = self.discriminator(real_images, training=True)\n",
    "            yhat_fake = self.discriminator(fake_images, training=True)\n",
    "            yhat_realfake = tf.concat([yhat_real, yhat_fake], axis=0)\n",
    "\n",
    "            # Create labels for real and fakes images\n",
    "            y_realfake = tf.concat(\n",
    "                [tf.zeros_like(yhat_real), tf.ones_like(yhat_fake)], axis=0\n",
    "            )\n",
    "\n",
    "            # Add some noise to the TRUE outputs\n",
    "            noise_real = 0.15 * tf.random.uniform(tf.shape(yhat_real))\n",
    "            noise_fake = -0.15 * tf.random.uniform(tf.shape(yhat_fake))\n",
    "            y_realfake += tf.concat([noise_real, noise_fake], axis=0)\n",
    "\n",
    "            # Calculate loss - BINARYCROSS\n",
    "            total_d_loss = self.d_loss(y_realfake, yhat_realfake)\n",
    "\n",
    "        # Apply backpropagation - nn learn\n",
    "        dgrad = d_tape.gradient(total_d_loss, self.discriminator.trainable_variables)\n",
    "        self.d_opt.apply_gradients(zip(dgrad, self.discriminator.trainable_variables))\n",
    "\n",
    "        # Train the generator\n",
    "        with tf.GradientTape() as g_tape:\n",
    "            # Generate some new images\n",
    "            gen_images = self.generator(tf.random.normal((128, 128, 1)), training=True)\n",
    "\n",
    "            # Create the predicted labels\n",
    "            predicted_labels = self.discriminator(gen_images, training=False)\n",
    "\n",
    "            # Calculate loss - trick to training to fake out the discriminator\n",
    "            total_g_loss = self.g_loss(\n",
    "                tf.zeros_like(predicted_labels), predicted_labels\n",
    "            )\n",
    "\n",
    "        # Apply backprop\n",
    "        ggrad = g_tape.gradient(total_g_loss, self.generator.trainable_variables)\n",
    "        self.g_opt.apply_gradients(zip(ggrad, self.generator.trainable_variables))\n",
    "\n",
    "        return {\"d_loss\": total_d_loss, \"g_loss\": total_g_loss}"
   ],
   "metadata": {
    "id": "sGuHo_aXA-lZ"
   },
   "execution_count": 26,
   "outputs": []
  },
  {
   "cell_type": "code",
   "source": [
    "fashgan = FashionGAN(generator, discriminator)"
   ],
   "metadata": {
    "id": "zq6T_TDTA-f5"
   },
   "execution_count": 27,
   "outputs": []
  },
  {
   "cell_type": "code",
   "source": [
    "fashgan.compile(g_opt, d_opt, g_loss, d_loss)"
   ],
   "metadata": {
    "id": "DDX3c_eIYZT-"
   },
   "execution_count": 28,
   "outputs": []
  },
  {
   "cell_type": "markdown",
   "source": [
    "# Build Callback"
   ],
   "metadata": {
    "id": "lIRRTdWhvpCn"
   }
  },
  {
   "cell_type": "code",
   "source": [
    "class ModelMonitor(Callback):\n",
    "    def __init__(self, num_img=3, latent_dim=128):\n",
    "        self.num_img = num_img\n",
    "        self.latent_dim = latent_dim\n",
    "\n",
    "    def on_epoch_end(self, epoch, logs=None):\n",
    "        random_latent_vectors = tf.random.uniform((self.num_img, self.latent_dim, 1))\n",
    "        generated_images = self.model.generator(random_latent_vectors)\n",
    "        generated_images *= 255\n",
    "        generated_images.numpy()\n",
    "        for i in range(self.num_img):\n",
    "            img = array_to_img(generated_images[i])\n",
    "            img.save(os.path.join(\"images\", f\"generated_img_{epoch}_{i}.png\"))"
   ],
   "metadata": {
    "id": "vQmjwcbwvs1V"
   },
   "execution_count": 19,
   "outputs": []
  },
  {
   "cell_type": "markdown",
   "source": [
    "# Train"
   ],
   "metadata": {
    "id": "pPTx7VNsvxeF"
   }
  },
  {
   "cell_type": "code",
   "source": [
    "!nvidia-smi"
   ],
   "metadata": {
    "id": "dy9_oglr5bbs",
    "outputId": "8c6c710b-c939-4e66-a6ca-85ff3efde062",
    "colab": {
     "base_uri": "https://localhost:8080/"
    }
   },
   "execution_count": 20,
   "outputs": [
    {
     "output_type": "stream",
     "name": "stdout",
     "text": [
      "Mon Jun 13 16:31:17 2022       \n",
      "+-----------------------------------------------------------------------------+\n",
      "| NVIDIA-SMI 460.32.03    Driver Version: 460.32.03    CUDA Version: 11.2     |\n",
      "|-------------------------------+----------------------+----------------------+\n",
      "| GPU  Name        Persistence-M| Bus-Id        Disp.A | Volatile Uncorr. ECC |\n",
      "| Fan  Temp  Perf  Pwr:Usage/Cap|         Memory-Usage | GPU-Util  Compute M. |\n",
      "|                               |                      |               MIG M. |\n",
      "|===============================+======================+======================|\n",
      "|   0  Tesla T4            Off  | 00000000:00:04.0 Off |                    0 |\n",
      "| N/A   75C    P0    34W /  70W |   1130MiB / 15109MiB |      0%      Default |\n",
      "|                               |                      |                  N/A |\n",
      "+-------------------------------+----------------------+----------------------+\n",
      "                                                                               \n",
      "+-----------------------------------------------------------------------------+\n",
      "| Processes:                                                                  |\n",
      "|  GPU   GI   CI        PID   Type   Process name                  GPU Memory |\n",
      "|        ID   ID                                                   Usage      |\n",
      "|=============================================================================|\n",
      "+-----------------------------------------------------------------------------+\n"
     ]
    }
   ]
  },
  {
   "cell_type": "code",
   "source": [
    "hist = fashgan.fit(ds, epochs=20, callbacks=[ModelMonitor()])"
   ],
   "metadata": {
    "colab": {
     "base_uri": "https://localhost:8080/"
    },
    "id": "wUnI9q3GvxI1",
    "outputId": "b0f6eda6-a52f-4d56-c83e-8864c70b1fa4"
   },
   "execution_count": null,
   "outputs": [
    {
     "output_type": "stream",
     "name": "stdout",
     "text": [
      "Epoch 1/20\n",
      "  6/300 [..............................] - ETA: 57s - d_loss: 0.6903 - g_loss: 0.6857WARNING:tensorflow:Callback method `on_train_batch_end` is slow compared to the batch time (batch time: 0.0941s vs `on_train_batch_end` time: 0.1047s). Check your callbacks.\n"
     ]
    },
    {
     "output_type": "stream",
     "name": "stderr",
     "text": [
      "WARNING:tensorflow:Callback method `on_train_batch_end` is slow compared to the batch time (batch time: 0.0941s vs `on_train_batch_end` time: 0.1047s). Check your callbacks.\n"
     ]
    },
    {
     "output_type": "stream",
     "name": "stdout",
     "text": [
      "300/300 [==============================] - 61s 199ms/step - d_loss: 0.3805 - g_loss: 3.4095\n"
     ]
    }
   ]
  },
  {
   "cell_type": "code",
   "source": [
    ""
   ],
   "metadata": {
    "id": "i_4dNYO6vtF-"
   },
   "execution_count": null,
   "outputs": []
  },
  {
   "cell_type": "code",
   "source": [
    ""
   ],
   "metadata": {
    "id": "7FeAd0dpvtAt"
   },
   "execution_count": null,
   "outputs": []
  },
  {
   "cell_type": "code",
   "source": [
    ""
   ],
   "metadata": {
    "id": "nlldQd2Qvs5q"
   },
   "execution_count": null,
   "outputs": []
  }
 ]
}