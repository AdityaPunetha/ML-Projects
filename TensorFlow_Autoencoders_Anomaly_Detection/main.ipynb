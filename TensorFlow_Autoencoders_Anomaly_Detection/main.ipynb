{
 "cells": [
  {
   "cell_type": "markdown",
   "metadata": {},
   "source": [
    "# Import Dependencies"
   ]
  },
  {
   "cell_type": "code",
   "execution_count": 1,
   "metadata": {},
   "outputs": [],
   "source": [
    "from sklearn.model_selection import train_test_split\n",
    "from sklearn import metrics\n",
    "import numpy as np\n",
    "import pandas as pd\n",
    "from tensorflow.keras.models import Sequential\n",
    "from tensorflow.keras.layers import Dense"
   ]
  },
  {
   "cell_type": "markdown",
   "metadata": {},
   "source": [
    "# Import Data"
   ]
  },
  {
   "cell_type": "code",
   "execution_count": 2,
   "metadata": {},
   "outputs": [],
   "source": [
    "df = pd.read_csv('anomaly.csv')"
   ]
  },
  {
   "cell_type": "code",
   "execution_count": 3,
   "metadata": {},
   "outputs": [
    {
     "data": {
      "text/html": [
       "<div>\n",
       "<style scoped>\n",
       "    .dataframe tbody tr th:only-of-type {\n",
       "        vertical-align: middle;\n",
       "    }\n",
       "\n",
       "    .dataframe tbody tr th {\n",
       "        vertical-align: top;\n",
       "    }\n",
       "\n",
       "    .dataframe thead th {\n",
       "        text-align: right;\n",
       "    }\n",
       "</style>\n",
       "<table border=\"1\" class=\"dataframe\">\n",
       "  <thead>\n",
       "    <tr style=\"text-align: right;\">\n",
       "      <th></th>\n",
       "      <th>Date</th>\n",
       "      <th>Power</th>\n",
       "      <th>Detector</th>\n",
       "      <th>Quality</th>\n",
       "    </tr>\n",
       "  </thead>\n",
       "  <tbody>\n",
       "    <tr>\n",
       "      <th>0</th>\n",
       "      <td>1-Jan-16</td>\n",
       "      <td>96</td>\n",
       "      <td>8</td>\n",
       "      <td>Good</td>\n",
       "    </tr>\n",
       "    <tr>\n",
       "      <th>1</th>\n",
       "      <td>2-Jan-16</td>\n",
       "      <td>96</td>\n",
       "      <td>10</td>\n",
       "      <td>Good</td>\n",
       "    </tr>\n",
       "    <tr>\n",
       "      <th>2</th>\n",
       "      <td>3-Jan-16</td>\n",
       "      <td>91</td>\n",
       "      <td>8</td>\n",
       "      <td>Good</td>\n",
       "    </tr>\n",
       "    <tr>\n",
       "      <th>3</th>\n",
       "      <td>4-Jan-16</td>\n",
       "      <td>97</td>\n",
       "      <td>9</td>\n",
       "      <td>Good</td>\n",
       "    </tr>\n",
       "    <tr>\n",
       "      <th>4</th>\n",
       "      <td>5-Jan-16</td>\n",
       "      <td>91</td>\n",
       "      <td>11</td>\n",
       "      <td>Good</td>\n",
       "    </tr>\n",
       "  </tbody>\n",
       "</table>\n",
       "</div>"
      ],
      "text/plain": [
       "       Date  Power  Detector Quality\n",
       "0  1-Jan-16     96         8    Good\n",
       "1  2-Jan-16     96        10    Good\n",
       "2  3-Jan-16     91         8    Good\n",
       "3  4-Jan-16     97         9    Good\n",
       "4  5-Jan-16     91        11    Good"
      ]
     },
     "execution_count": 3,
     "metadata": {},
     "output_type": "execute_result"
    }
   ],
   "source": [
    "df.head()"
   ]
  },
  {
   "cell_type": "code",
   "execution_count": 4,
   "metadata": {},
   "outputs": [],
   "source": [
    "df.drop(['Date'], axis=1, inplace=True)"
   ]
  },
  {
   "cell_type": "code",
   "execution_count": 5,
   "metadata": {},
   "outputs": [
    {
     "data": {
      "text/plain": [
       "Good    1054\n",
       "Bad      407\n",
       "Name: Quality, dtype: int64"
      ]
     },
     "execution_count": 5,
     "metadata": {},
     "output_type": "execute_result"
    }
   ],
   "source": [
    "df.Quality.value_counts()"
   ]
  },
  {
   "cell_type": "code",
   "execution_count": 6,
   "metadata": {},
   "outputs": [
    {
     "data": {
      "text/plain": [
       "0.7214236824093087"
      ]
     },
     "execution_count": 6,
     "metadata": {},
     "output_type": "execute_result"
    }
   ],
   "source": [
    "1054/len(df)"
   ]
  },
  {
   "cell_type": "code",
   "execution_count": 7,
   "metadata": {},
   "outputs": [
    {
     "name": "stderr",
     "output_type": "stream",
     "text": [
      "C:\\Users\\Rajeev\\AppData\\Local\\Temp/ipykernel_33356/2335564477.py:1: SettingWithCopyWarning: \n",
      "A value is trying to be set on a copy of a slice from a DataFrame\n",
      "\n",
      "See the caveats in the documentation: https://pandas.pydata.org/pandas-docs/stable/user_guide/indexing.html#returning-a-view-versus-a-copy\n",
      "  df.Quality[df.Quality == 'Good'] = 1\n",
      "C:\\Users\\Rajeev\\AppData\\Local\\Temp/ipykernel_33356/2335564477.py:2: SettingWithCopyWarning: \n",
      "A value is trying to be set on a copy of a slice from a DataFrame\n",
      "\n",
      "See the caveats in the documentation: https://pandas.pydata.org/pandas-docs/stable/user_guide/indexing.html#returning-a-view-versus-a-copy\n",
      "  df.Quality[df.Quality == 'Bad'] = 2\n"
     ]
    }
   ],
   "source": [
    "df.Quality[df.Quality == 'Good'] = 1\n",
    "df.Quality[df.Quality == 'Bad'] = 2"
   ]
  },
  {
   "cell_type": "code",
   "execution_count": 8,
   "metadata": {},
   "outputs": [],
   "source": [
    "good_mask = df['Quality']== 1 #All good to be True for good data points\n",
    "bad_mask = df['Quality']== 2 #All values False for good data points\n",
    "#print(good_mask.head())\n",
    "\n",
    "df.drop('Quality',axis=1,inplace=True)\n",
    "\n",
    "df_good = df[good_mask]\n",
    "df_bad = df[bad_mask]"
   ]
  },
  {
   "cell_type": "code",
   "execution_count": 9,
   "metadata": {},
   "outputs": [],
   "source": [
    "x_good = df_good.values\n",
    "x_bad = df_bad.values"
   ]
  },
  {
   "cell_type": "code",
   "execution_count": 10,
   "metadata": {},
   "outputs": [],
   "source": [
    "x_good_train, x_good_test = train_test_split(x_good, test_size=0.25, random_state=42)"
   ]
  },
  {
   "cell_type": "markdown",
   "metadata": {},
   "source": [
    "# Model"
   ]
  },
  {
   "cell_type": "code",
   "execution_count": 11,
   "metadata": {},
   "outputs": [
    {
     "name": "stdout",
     "output_type": "stream",
     "text": [
      "Model: \"sequential\"\n",
      "_________________________________________________________________\n",
      " Layer (type)                Output Shape              Param #   \n",
      "=================================================================\n",
      " dense (Dense)               (None, 10)                30        \n",
      "                                                                 \n",
      " dense_1 (Dense)             (None, 3)                 33        \n",
      "                                                                 \n",
      " dense_2 (Dense)             (None, 10)                40        \n",
      "                                                                 \n",
      " dense_3 (Dense)             (None, 2)                 22        \n",
      "                                                                 \n",
      "=================================================================\n",
      "Total params: 125\n",
      "Trainable params: 125\n",
      "Non-trainable params: 0\n",
      "_________________________________________________________________\n"
     ]
    }
   ],
   "source": [
    "model = Sequential()\n",
    "model.add(Dense(10, input_dim=x_good.shape[1], activation='relu'))\n",
    "model.add(Dense(3, activation='relu'))\n",
    "model.add(Dense(10, activation='relu'))\n",
    "model.add(Dense(x_good.shape[1])) \n",
    "model.compile(loss='mean_squared_error', optimizer='adam')\n",
    "model.summary()"
   ]
  },
  {
   "cell_type": "code",
   "execution_count": 12,
   "metadata": {},
   "outputs": [
    {
     "name": "stdout",
     "output_type": "stream",
     "text": [
      "Epoch 1/100\n",
      "25/25 [==============================] - 2s 16ms/step - loss: 3813.3801\n",
      "Epoch 2/100\n",
      "25/25 [==============================] - 0s 6ms/step - loss: 3102.5996\n",
      "Epoch 3/100\n",
      "25/25 [==============================] - 0s 6ms/step - loss: 2315.7903\n",
      "Epoch 4/100\n",
      "25/25 [==============================] - 0s 6ms/step - loss: 1455.6934\n",
      "Epoch 5/100\n",
      "25/25 [==============================] - 0s 6ms/step - loss: 714.4618\n",
      "Epoch 6/100\n",
      "25/25 [==============================] - 0s 8ms/step - loss: 262.4648\n",
      "Epoch 7/100\n",
      "25/25 [==============================] - 0s 7ms/step - loss: 77.3248\n",
      "Epoch 8/100\n",
      "25/25 [==============================] - 0s 6ms/step - loss: 19.8184\n",
      "Epoch 9/100\n",
      "25/25 [==============================] - 0s 6ms/step - loss: 5.1639\n",
      "Epoch 10/100\n",
      "25/25 [==============================] - 0s 6ms/step - loss: 2.2683\n",
      "Epoch 11/100\n",
      "25/25 [==============================] - 0s 6ms/step - loss: 2.0111\n",
      "Epoch 12/100\n",
      "25/25 [==============================] - 0s 6ms/step - loss: 2.0019\n",
      "Epoch 13/100\n",
      "25/25 [==============================] - 0s 6ms/step - loss: 1.9982\n",
      "Epoch 14/100\n",
      "25/25 [==============================] - 0s 6ms/step - loss: 2.0005\n",
      "Epoch 15/100\n",
      "25/25 [==============================] - 0s 6ms/step - loss: 1.9929\n",
      "Epoch 16/100\n",
      "25/25 [==============================] - 0s 6ms/step - loss: 1.9929\n",
      "Epoch 17/100\n",
      "25/25 [==============================] - 0s 6ms/step - loss: 1.9886\n",
      "Epoch 18/100\n",
      "25/25 [==============================] - 0s 12ms/step - loss: 1.9887\n",
      "Epoch 19/100\n",
      "25/25 [==============================] - 0s 6ms/step - loss: 1.9885\n",
      "Epoch 20/100\n",
      "25/25 [==============================] - 0s 6ms/step - loss: 1.9794\n",
      "Epoch 21/100\n",
      "25/25 [==============================] - 0s 10ms/step - loss: 1.9765\n",
      "Epoch 22/100\n",
      "25/25 [==============================] - 0s 6ms/step - loss: 1.9736\n",
      "Epoch 23/100\n",
      "25/25 [==============================] - 0s 6ms/step - loss: 1.9720\n",
      "Epoch 24/100\n",
      "25/25 [==============================] - 0s 6ms/step - loss: 1.9658\n",
      "Epoch 25/100\n",
      "25/25 [==============================] - 0s 6ms/step - loss: 1.9681\n",
      "Epoch 26/100\n",
      "25/25 [==============================] - 0s 6ms/step - loss: 1.9579\n",
      "Epoch 27/100\n",
      "25/25 [==============================] - 0s 7ms/step - loss: 1.9565\n",
      "Epoch 28/100\n",
      "25/25 [==============================] - 0s 6ms/step - loss: 1.9498\n",
      "Epoch 29/100\n",
      "25/25 [==============================] - 0s 6ms/step - loss: 1.9535\n",
      "Epoch 30/100\n",
      "25/25 [==============================] - 0s 6ms/step - loss: 1.9468\n",
      "Epoch 31/100\n",
      "25/25 [==============================] - 0s 7ms/step - loss: 1.9409\n",
      "Epoch 32/100\n",
      "25/25 [==============================] - 0s 12ms/step - loss: 1.9388\n",
      "Epoch 33/100\n",
      "25/25 [==============================] - 0s 8ms/step - loss: 1.9398\n",
      "Epoch 34/100\n",
      "25/25 [==============================] - 0s 6ms/step - loss: 1.9263\n",
      "Epoch 35/100\n",
      "25/25 [==============================] - 0s 6ms/step - loss: 1.9227\n",
      "Epoch 36/100\n",
      "25/25 [==============================] - 0s 6ms/step - loss: 1.9218\n",
      "Epoch 37/100\n",
      "25/25 [==============================] - 0s 11ms/step - loss: 1.9196\n",
      "Epoch 38/100\n",
      "25/25 [==============================] - 0s 11ms/step - loss: 1.9113\n",
      "Epoch 39/100\n",
      "25/25 [==============================] - 0s 8ms/step - loss: 1.9097\n",
      "Epoch 40/100\n",
      "25/25 [==============================] - 0s 7ms/step - loss: 1.9105\n",
      "Epoch 41/100\n",
      "25/25 [==============================] - 0s 6ms/step - loss: 1.9017\n",
      "Epoch 42/100\n",
      "25/25 [==============================] - 0s 7ms/step - loss: 1.8904\n",
      "Epoch 43/100\n",
      "25/25 [==============================] - 0s 5ms/step - loss: 1.8892\n",
      "Epoch 44/100\n",
      "25/25 [==============================] - 0s 6ms/step - loss: 1.8830\n",
      "Epoch 45/100\n",
      "25/25 [==============================] - 0s 6ms/step - loss: 1.8794\n",
      "Epoch 46/100\n",
      "25/25 [==============================] - 0s 7ms/step - loss: 1.8754\n",
      "Epoch 47/100\n",
      "25/25 [==============================] - 0s 6ms/step - loss: 1.8834\n",
      "Epoch 48/100\n",
      "25/25 [==============================] - 0s 7ms/step - loss: 1.8629\n",
      "Epoch 49/100\n",
      "25/25 [==============================] - 0s 7ms/step - loss: 1.8591\n",
      "Epoch 50/100\n",
      "25/25 [==============================] - 0s 6ms/step - loss: 1.8509\n",
      "Epoch 51/100\n",
      "25/25 [==============================] - 0s 6ms/step - loss: 1.8470\n",
      "Epoch 52/100\n",
      "25/25 [==============================] - 0s 7ms/step - loss: 1.8463\n",
      "Epoch 53/100\n",
      "25/25 [==============================] - 0s 9ms/step - loss: 1.8405\n",
      "Epoch 54/100\n",
      "25/25 [==============================] - 0s 6ms/step - loss: 1.8342\n",
      "Epoch 55/100\n",
      "25/25 [==============================] - 0s 6ms/step - loss: 1.8272\n",
      "Epoch 56/100\n",
      "25/25 [==============================] - 0s 6ms/step - loss: 1.8205\n",
      "Epoch 57/100\n",
      "25/25 [==============================] - 0s 6ms/step - loss: 1.8173\n",
      "Epoch 58/100\n",
      "25/25 [==============================] - 0s 6ms/step - loss: 1.8104\n",
      "Epoch 59/100\n",
      "25/25 [==============================] - 0s 7ms/step - loss: 1.7996\n",
      "Epoch 60/100\n",
      "25/25 [==============================] - 0s 7ms/step - loss: 1.7994\n",
      "Epoch 61/100\n",
      "25/25 [==============================] - 0s 6ms/step - loss: 1.7986\n",
      "Epoch 62/100\n",
      "25/25 [==============================] - 0s 6ms/step - loss: 1.7825\n",
      "Epoch 63/100\n",
      "25/25 [==============================] - 0s 7ms/step - loss: 1.7804\n",
      "Epoch 64/100\n",
      "25/25 [==============================] - 0s 7ms/step - loss: 1.7770\n",
      "Epoch 65/100\n",
      "25/25 [==============================] - 0s 6ms/step - loss: 1.7854\n",
      "Epoch 66/100\n",
      "25/25 [==============================] - 0s 7ms/step - loss: 1.7642\n",
      "Epoch 67/100\n",
      "25/25 [==============================] - 0s 6ms/step - loss: 1.7602\n",
      "Epoch 68/100\n",
      "25/25 [==============================] - 0s 7ms/step - loss: 1.7500\n",
      "Epoch 69/100\n",
      "25/25 [==============================] - 0s 7ms/step - loss: 1.7440\n",
      "Epoch 70/100\n",
      "25/25 [==============================] - 0s 10ms/step - loss: 1.7414\n",
      "Epoch 71/100\n",
      "25/25 [==============================] - 0s 9ms/step - loss: 1.7287\n",
      "Epoch 72/100\n",
      "25/25 [==============================] - 0s 10ms/step - loss: 1.7237\n",
      "Epoch 73/100\n",
      "25/25 [==============================] - 0s 6ms/step - loss: 1.7170\n",
      "Epoch 74/100\n",
      "25/25 [==============================] - 0s 8ms/step - loss: 1.7148\n",
      "Epoch 75/100\n",
      "25/25 [==============================] - 0s 10ms/step - loss: 1.7089\n",
      "Epoch 76/100\n",
      "25/25 [==============================] - 0s 8ms/step - loss: 1.6950\n",
      "Epoch 77/100\n",
      "25/25 [==============================] - 0s 7ms/step - loss: 1.6892\n",
      "Epoch 78/100\n",
      "25/25 [==============================] - 0s 7ms/step - loss: 1.6913\n",
      "Epoch 79/100\n",
      "25/25 [==============================] - 0s 7ms/step - loss: 1.6804\n",
      "Epoch 80/100\n",
      "25/25 [==============================] - 0s 7ms/step - loss: 1.6736\n",
      "Epoch 81/100\n",
      "25/25 [==============================] - 0s 8ms/step - loss: 1.6768\n",
      "Epoch 82/100\n",
      "25/25 [==============================] - 0s 6ms/step - loss: 1.6669\n",
      "Epoch 83/100\n",
      "25/25 [==============================] - 0s 7ms/step - loss: 1.6556\n",
      "Epoch 84/100\n",
      "25/25 [==============================] - 0s 6ms/step - loss: 1.6576\n",
      "Epoch 85/100\n",
      "25/25 [==============================] - 0s 9ms/step - loss: 1.6437\n",
      "Epoch 86/100\n",
      "25/25 [==============================] - 0s 6ms/step - loss: 1.6315\n",
      "Epoch 87/100\n",
      "25/25 [==============================] - 0s 6ms/step - loss: 1.6391\n",
      "Epoch 88/100\n",
      "25/25 [==============================] - 0s 9ms/step - loss: 1.6245\n",
      "Epoch 89/100\n",
      "25/25 [==============================] - 0s 11ms/step - loss: 1.6124\n",
      "Epoch 90/100\n",
      "25/25 [==============================] - 0s 12ms/step - loss: 1.6165\n",
      "Epoch 91/100\n",
      "25/25 [==============================] - 0s 13ms/step - loss: 1.6167\n",
      "Epoch 92/100\n",
      "25/25 [==============================] - 0s 8ms/step - loss: 1.6103\n",
      "Epoch 93/100\n",
      "25/25 [==============================] - 0s 6ms/step - loss: 1.5961\n",
      "Epoch 94/100\n",
      "25/25 [==============================] - 0s 9ms/step - loss: 1.5896\n",
      "Epoch 95/100\n",
      "25/25 [==============================] - 0s 7ms/step - loss: 1.5698\n",
      "Epoch 96/100\n",
      "25/25 [==============================] - 0s 7ms/step - loss: 1.5994\n",
      "Epoch 97/100\n",
      "25/25 [==============================] - 0s 6ms/step - loss: 1.5517\n",
      "Epoch 98/100\n",
      "25/25 [==============================] - 0s 6ms/step - loss: 1.5517\n",
      "Epoch 99/100\n",
      "25/25 [==============================] - 0s 6ms/step - loss: 1.5432\n",
      "Epoch 100/100\n",
      "25/25 [==============================] - 0s 7ms/step - loss: 1.5423\n"
     ]
    },
    {
     "data": {
      "text/plain": [
       "<keras.callbacks.History at 0x222d2b67cd0>"
      ]
     },
     "execution_count": 12,
     "metadata": {},
     "output_type": "execute_result"
    }
   ],
   "source": [
    "model.fit(x_good_train,x_good_train,epochs=100)"
   ]
  },
  {
   "cell_type": "code",
   "execution_count": 13,
   "metadata": {},
   "outputs": [
    {
     "name": "stdout",
     "output_type": "stream",
     "text": [
      "Insample Good Score (RMSE): 1.244360619059351\n",
      "Out of Sample Good Score (RMSE): 1.2434289487765253\n",
      "Bad sample Score (RMSE): 3.0536329684915073\n"
     ]
    }
   ],
   "source": [
    "pred = model.predict(x_good_test)\n",
    "score1 = np.sqrt(metrics.mean_squared_error(pred,x_good_test))\n",
    "\n",
    "pred = model.predict(x_good)\n",
    "score2 = np.sqrt(metrics.mean_squared_error(pred,x_good))\n",
    "\n",
    "pred = model.predict(x_bad)\n",
    "score3 = np.sqrt(metrics.mean_squared_error(pred,x_bad))\n",
    "\n",
    "print(f\"Insample Good Score (RMSE): {score1}\".format(score1))\n",
    "print(f\"Out of Sample Good Score (RMSE): {score2}\")\n",
    "print(f\"Bad sample Score (RMSE): {score3}\")"
   ]
  },
  {
   "cell_type": "code",
   "execution_count": 14,
   "metadata": {},
   "outputs": [
    {
     "name": "stdout",
     "output_type": "stream",
     "text": [
      "INFO:tensorflow:Assets written to: TensorFlow_Autoencoders_Anomaly_Detection\\assets\n"
     ]
    }
   ],
   "source": [
    "model.save('TensorFlow_Autoencoders_Anomaly_Detection')"
   ]
  }
 ],
 "metadata": {
  "kernelspec": {
   "display_name": "Python 3.9.7 ('cudaProject')",
   "language": "python",
   "name": "python3"
  },
  "language_info": {
   "codemirror_mode": {
    "name": "ipython",
    "version": 3
   },
   "file_extension": ".py",
   "mimetype": "text/x-python",
   "name": "python",
   "nbconvert_exporter": "python",
   "pygments_lexer": "ipython3",
   "version": "3.9.7"
  },
  "orig_nbformat": 4,
  "vscode": {
   "interpreter": {
    "hash": "37749681fc95d15aef073fb86451db19a9097e4173dc51c6e25ca191fcb96fb8"
   }
  }
 },
 "nbformat": 4,
 "nbformat_minor": 2
}
